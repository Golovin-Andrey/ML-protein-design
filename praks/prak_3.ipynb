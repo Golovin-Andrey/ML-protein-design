{
  "cells": [
    {
      "cell_type": "markdown",
      "metadata": {
        "id": "8wMXf8npqxLf"
      },
      "source": [
        "# Предсказание структуры"
      ]
    },
    {
      "cell_type": "markdown",
      "metadata": {
        "id": "Jz4O43MipYIG"
      },
      "source": [
        "## 0. Установка пакетов"
      ]
    },
    {
      "cell_type": "markdown",
      "metadata": {
        "id": "l2WddIOApYIG"
      },
      "source": [
        "### 0.1 Локально"
      ]
    },
    {
      "cell_type": "markdown",
      "source": [
        "Команды для установки, набрать в консоли (при необходимости предварительно активировав нужный environment)\n",
        "\n",
        "```\n",
        "pip install biopython\n",
        "conda install -c salilab modeller\n",
        "```\n",
        "После этого моделлер предложит отредактировать файл config.py (полный путь он выдаст) и добавить туда пароль. Добавляем слово MODELIRANJE ."
      ],
      "metadata": {
        "id": "b9b5xtLWJg7H"
      }
    },
    {
      "cell_type": "markdown",
      "metadata": {
        "id": "nW6UnlCJpYIJ"
      },
      "source": [
        "### 0.2 В колабе (надеюсь, не понадобится)"
      ]
    },
    {
      "cell_type": "code",
      "execution_count": null,
      "metadata": {
        "id": "v9tmIz_dqd-d",
        "outputId": "99d25aef-ca04-4761-c3e7-2454e497234d",
        "colab": {
          "base_uri": "https://localhost:8080/"
        }
      },
      "outputs": [
        {
          "output_type": "stream",
          "name": "stdout",
          "text": [
            "Collecting biopython\n",
            "  Downloading biopython-1.81-cp310-cp310-manylinux_2_17_x86_64.manylinux2014_x86_64.whl (3.1 MB)\n",
            "\u001b[2K     \u001b[90m━━━━━━━━━━━━━━━━━━━━━━━━━━━━━━━━━━━━━━━━\u001b[0m \u001b[32m3.1/3.1 MB\u001b[0m \u001b[31m9.7 MB/s\u001b[0m eta \u001b[36m0:00:00\u001b[0m\n",
            "\u001b[?25hRequirement already satisfied: numpy in /usr/local/lib/python3.10/dist-packages (from biopython) (1.23.5)\n"
          ]
        }
      ],
      "source": [
        "! pip install biopython\n",
        "! cd /tmp/ ; wget https://salilab.org/modeller/10.1/modeller_10.1-1_amd64.deb\n",
        "! env KEY_MODELLER=\"MODELIRANJE\" dpkg -i /tmp/modeller_10.1-1_amd64.deb\n",
        "! echo -e \"install_dir = r'/usr/lib/modeller10.1'\\nlicense = 'MODELIRANJE'\" > /usr/lib/modeller10.1/modlib/modeller/config.py\n",
        "\n",
        "import sys\n",
        "sys.path.append('/usr/lib/python3.9/dist-packages')\n"
      ]
    },
    {
      "cell_type": "markdown",
      "source": [
        "Если пимол запускается локально, но не через ноутбук, или проблемы с установкой моделлера, то моделлер можно запускать в колабе, результаты расчетов скачивать и открывать пимолом."
      ],
      "metadata": {
        "id": "7ndKlPhsCV8m"
      }
    },
    {
      "cell_type": "markdown",
      "metadata": {
        "id": "jCKqcuSppYIL"
      },
      "source": [
        "## 1. Постановка задачи"
      ]
    },
    {
      "cell_type": "markdown",
      "metadata": {
        "id": "3Gnh0i7XpYIM"
      },
      "source": [
        "Имеется структура комплекса антитела с RBD доменом коронавируса (https://www.rcsb.org/structure/7SIX)"
      ]
    },
    {
      "cell_type": "markdown",
      "metadata": {
        "id": "_vfASHbRpYIN"
      },
      "source": [
        "Попробуем построить модель комплекса с помощью 2 методов: modeller и alphafold2. Проверим, насколько хорошо построенные модели соответствуют настоящей структуре."
      ]
    },
    {
      "cell_type": "code",
      "execution_count": null,
      "metadata": {
        "id": "HiaSpkmppYIN"
      },
      "outputs": [],
      "source": [
        "from Bio import PDB, ExPASy, SwissProt, SeqIO\n",
        "from IPython.display import Image\n",
        "import os\n"
      ]
    },
    {
      "cell_type": "markdown",
      "metadata": {
        "id": "39GCimEMpYIO"
      },
      "source": [
        "Загрузим последовательность RBD домена из Swissprot с помощью биопитона"
      ]
    },
    {
      "cell_type": "code",
      "execution_count": null,
      "metadata": {
        "id": "BwwfTcjB38kx"
      },
      "outputs": [],
      "source": [
        "record = SwissProt.read(ExPASy.get_sprot_raw('SPIKE_SARS2')) # скачиваем запись о спайк-белке\n",
        "rbd_seq=record.sequence[318:541] #  вырезаем из сиквенса белка RBD\n",
        "rbd_seq"
      ]
    },
    {
      "cell_type": "markdown",
      "metadata": {
        "id": "E9nMhJtepYIP"
      },
      "source": [
        "Последовательности антитела (тяжелой и легкой цепей) возьмем из файла со структурой"
      ]
    },
    {
      "cell_type": "code",
      "execution_count": null,
      "metadata": {
        "id": "XaYI6BLEpYIP"
      },
      "outputs": [],
      "source": [
        "pdbl = PDB.PDBList()\n",
        "target=pdbl.retrieve_pdb_file(\"7SIX\",file_format='pdb',pdir='.') # скачиваем файл структуры"
      ]
    },
    {
      "cell_type": "code",
      "execution_count": null,
      "metadata": {
        "id": "6Au2A6ivpYIP"
      },
      "outputs": [],
      "source": [
        "for record in SeqIO.parse(\"pdb7six.ent\", \"pdb-seqres\"): # парсим его шапку и берем оттуда нужные сиквенсы\n",
        "    if record.name=='7SIX:H':\n",
        "        heavy_seq=str(record.seq)\n",
        "    elif record.name=='7SIX:L':\n",
        "        light_seq=str(record.seq)"
      ]
    },
    {
      "cell_type": "code",
      "execution_count": null,
      "metadata": {
        "id": "vUr5OOw4pYIQ"
      },
      "outputs": [],
      "source": [
        "heavy_seq"
      ]
    },
    {
      "cell_type": "code",
      "execution_count": null,
      "metadata": {
        "id": "zUIW61HTpYIQ"
      },
      "outputs": [],
      "source": [
        "light_seq"
      ]
    },
    {
      "cell_type": "markdown",
      "metadata": {
        "id": "ToXm-D2xpYIR"
      },
      "source": [
        "Посмотрим, что мы собираемся предсказывать"
      ]
    },
    {
      "cell_type": "code",
      "execution_count": null,
      "metadata": {
        "id": "7u85HY-wpYIR"
      },
      "outputs": [],
      "source": [
        "# для тех, у кого все работает\n",
        "import __main__\n",
        "__main__.pymol_argv = [ 'pymol', '-x' ]\n",
        "\n",
        "import pymol\n",
        "pymol.finish_launching()"
      ]
    },
    {
      "cell_type": "code",
      "source": [
        "from pymol import cmd\n",
        "cmd.do('bg white')"
      ],
      "metadata": {
        "id": "lebiueT2IjBb"
      },
      "execution_count": null,
      "outputs": []
    },
    {
      "cell_type": "code",
      "execution_count": null,
      "metadata": {
        "id": "N6IjKbtJpYIR"
      },
      "outputs": [],
      "source": [
        "cmd.load(target)\n",
        "\n",
        "#cmd.png('img_1.png')\n",
        "#Image('img_1.png')\n",
        "\n",
        "# заметим, что в структуре 2 цепи антитела (легкая и тяжелая) и 2 RBD домена, поскольку данное антитело связывается с RBD в двух местах."
      ]
    },
    {
      "cell_type": "markdown",
      "metadata": {
        "id": "ZWNHVDRtpYIS"
      },
      "source": [
        "## 2. AlphaFold2"
      ]
    },
    {
      "cell_type": "markdown",
      "metadata": {
        "id": "Tvf2_H8MpYIS"
      },
      "source": [
        "Предскажем структуру комплекса с помощью alphafold2 https://colab.research.google.com/github/sokrypton/ColabFold/blob/main/AlphaFold2.ipynb. Для этого идем по ссылке, заполняем поле query_sequence целевой последовательностью (при необходимости используем разделитель цепей \":\") и в меню сверху жмем Runtime > Run all. Расчеты идут минут 15, после чего архив с результатами автоматически скачивается."
      ]
    },
    {
      "cell_type": "code",
      "execution_count": null,
      "metadata": {
        "id": "uCjuYB2vpYIS"
      },
      "outputs": [],
      "source": []
    },
    {
      "cell_type": "markdown",
      "metadata": {
        "id": "yR0ju1XzpYIS"
      },
      "source": [
        "Распакуем архив с результатами и посмотрим, что там"
      ]
    },
    {
      "cell_type": "code",
      "execution_count": null,
      "metadata": {
        "id": "BBSF1zORpYIT"
      },
      "outputs": [],
      "source": [
        "! unzip < имя архива >"
      ]
    },
    {
      "cell_type": "code",
      "execution_count": null,
      "metadata": {
        "id": "G4YDvvP6pYIT"
      },
      "outputs": [],
      "source": [
        "os.listdir( < имя распакованного архива > )"
      ]
    },
    {
      "cell_type": "code",
      "execution_count": null,
      "metadata": {
        "id": "V431HNqWpYIT"
      },
      "outputs": [],
      "source": [
        "os.rename( < имя распакованного архива/ имя нужного файла > ,\n",
        "           'alphafold.pdb') # из распакованного архива вытащим файл с моделью и переименуем"
      ]
    },
    {
      "cell_type": "markdown",
      "metadata": {
        "id": "IdmGfbMopYIU"
      },
      "source": [
        "Откроем получившуюся структуру в пимоле"
      ]
    },
    {
      "cell_type": "code",
      "execution_count": null,
      "metadata": {
        "id": "x9CJXGOnpYIU"
      },
      "outputs": [],
      "source": [
        "cmd.load(...)"
      ]
    },
    {
      "cell_type": "markdown",
      "metadata": {
        "id": "PM7gLBEspYIU"
      },
      "source": [
        "Наложим на настоящую структуру и проверим, насколько верно альфафолд предсказал положение антитела"
      ]
    },
    {
      "cell_type": "code",
      "execution_count": null,
      "metadata": {
        "id": "D4RNP4LWpYIU"
      },
      "outputs": [],
      "source": [
        "cmd.alignto(...) # попробуйте наложить поочередно на оба положения RBD домена\n",
        "cmd.orient(...)"
      ]
    },
    {
      "cell_type": "markdown",
      "source": [
        "Приблизим участок взаимодействия антитела и RBD (вручную), покажем аминокислоты в виде sticks, оценим, насколько реалистично предсказано взаимодействие."
      ],
      "metadata": {
        "id": "1esVZIOnDaY-"
      }
    },
    {
      "cell_type": "code",
      "execution_count": null,
      "metadata": {
        "id": "3-pmN17zpYIU"
      },
      "outputs": [],
      "source": [
        "..."
      ]
    },
    {
      "cell_type": "markdown",
      "source": [
        "Выводы:\n",
        "\n",
        "...\n",
        "\n",
        "..."
      ],
      "metadata": {
        "id": "NAqSVdQ_IUXK"
      }
    },
    {
      "cell_type": "markdown",
      "metadata": {
        "id": "s78QvRgBpYIV"
      },
      "source": [
        "## 3. Modeller"
      ]
    },
    {
      "cell_type": "markdown",
      "metadata": {
        "id": "w0xP4AjOpYIW"
      },
      "source": [
        "Для той же задачи используем метод гомологичного моделирования"
      ]
    },
    {
      "cell_type": "code",
      "execution_count": null,
      "metadata": {
        "id": "KWyKakh8z1pu"
      },
      "outputs": [],
      "source": [
        "import modeller\n",
        "from modeller import automodel\n"
      ]
    },
    {
      "cell_type": "code",
      "execution_count": null,
      "metadata": {
        "id": "td4kbpWI2BRq"
      },
      "outputs": [],
      "source": [
        "env=modeller.environ()\n",
        "#env.io.hetatm=True # это если нужно сохранить гетероатомы"
      ]
    },
    {
      "cell_type": "markdown",
      "metadata": {
        "id": "E6abu8K8pYIW"
      },
      "source": [
        "Создадим объект выравнивание и добавим туда наши последовательности (с разделителем цепей \"/\")"
      ]
    },
    {
      "cell_type": "code",
      "execution_count": null,
      "metadata": {
        "id": "tdP-rQar5A0j"
      },
      "outputs": [],
      "source": [
        "aln=modeller.alignment(env)\n",
        "\n",
        "aln.append_sequence('/'.join([rbd_seq, heavy_seq, light_seq]))\n",
        "aln[0].code='rbd'\n",
        "aln"
      ]
    },
    {
      "cell_type": "markdown",
      "metadata": {
        "id": "V6IApoRRpYIW"
      },
      "source": [
        "Для работы моделлеру нужна структура, по образцу который будет строится новая модель. Возьмем любую структуру комплекса RBD с антителом, например https://www.rcsb.org/structure/7DET"
      ]
    },
    {
      "cell_type": "code",
      "execution_count": null,
      "metadata": {
        "id": "1WOnWoyTQNaH"
      },
      "outputs": [],
      "source": [
        "pdbl = PDB.PDBList()\n",
        "template=pdbl.retrieve_pdb_file(\"7DET\",file_format='pdb',pdir='.')\n",
        "template"
      ]
    },
    {
      "cell_type": "markdown",
      "metadata": {
        "id": "7mtrnUHTpYIY"
      },
      "source": [
        "Загрузим эту структуру в наше выравнивание"
      ]
    },
    {
      "cell_type": "code",
      "execution_count": null,
      "metadata": {
        "id": "p94QGO4O9oyf"
      },
      "outputs": [],
      "source": [
        "mdl = modeller.model(env, file=template, model_segment=('FIRST:A', 'LAST:B'))\n",
        "\n",
        "# заметим, что в этой структуре только 2 цепи: RBD и антитела.\n",
        "# антитело здесь это сшитые между собой тяжелая и легкая цепи.\n",
        "# так что наши 3 цепи будут выравниваться с 2 цепями образца.\n",
        "\n",
        "aln.append_model(mdl, atom_files=template, align_codes='7det')"
      ]
    },
    {
      "cell_type": "markdown",
      "metadata": {
        "id": "ETkQPxvepYIY"
      },
      "source": [
        "Рассчитаем выравнивание и сохраним в файл"
      ]
    },
    {
      "cell_type": "code",
      "execution_count": null,
      "metadata": {
        "id": "m_wgL9KNXh0S"
      },
      "outputs": [],
      "source": [
        "aln.salign()\n",
        "aln.write(file='lys.ali', alignment_format='PIR')"
      ]
    },
    {
      "cell_type": "markdown",
      "metadata": {
        "id": "edS267-fpYIZ"
      },
      "source": [
        "Рассчитаем модель"
      ]
    },
    {
      "cell_type": "code",
      "execution_count": null,
      "metadata": {
        "id": "mlk8mUofYTBQ"
      },
      "outputs": [],
      "source": [
        "a = automodel.automodel(env, alnfile='lys.ali', knowns= '7det', sequence = 'rbd' )\n",
        "\n",
        "a.starting_model = 1\n",
        "a.ending_model = 2\n",
        "a.make()"
      ]
    },
    {
      "cell_type": "code",
      "execution_count": null,
      "metadata": {
        "id": "cuIiiaJcpYIZ"
      },
      "outputs": [],
      "source": [
        "os.listdir('.')"
      ]
    },
    {
      "cell_type": "markdown",
      "metadata": {
        "id": "EuGQM0M7pYIZ"
      },
      "source": [
        "Загрузим полученную модель в пимол и посмотрим, насколько хорошо предсказалась структура"
      ]
    },
    {
      "cell_type": "code",
      "execution_count": null,
      "metadata": {
        "id": "kr_FZDiYpYIa"
      },
      "outputs": [],
      "source": [
        "..."
      ]
    },
    {
      "cell_type": "code",
      "execution_count": null,
      "metadata": {
        "id": "Azv9wDEapYIa"
      },
      "outputs": [],
      "source": [
        "..."
      ]
    },
    {
      "cell_type": "code",
      "execution_count": null,
      "metadata": {
        "id": "eBNMDXn3pYIa"
      },
      "outputs": [],
      "source": [
        "..."
      ]
    },
    {
      "cell_type": "markdown",
      "source": [
        "Выводы:\n",
        "\n",
        "...\n",
        "\n",
        "..."
      ],
      "metadata": {
        "id": "nT8-6aObIahm"
      }
    },
    {
      "cell_type": "markdown",
      "metadata": {
        "id": "1gdiAbZ_pYIa"
      },
      "source": [
        "## 4. Домашнее задание"
      ]
    },
    {
      "cell_type": "markdown",
      "metadata": {
        "id": "_y5vyB5YpYIa"
      },
      "source": [
        "0. Самостоятельно сделать прак (кто не пришел).\n",
        "1. Построить структуру комплекса с помощью любого другого метода (ноутбуки для запуска доступны по ссылке https://github.com/sokrypton/ColabFold). В пимоле рассмотреть участок взаимодействия антитела и RBD, сравнить с оригинальной структурой, сделать выводы.\n",
        "2. Построить структуру лизоцима (https://www.uniprot.org/uniprotkb/P26836/entry) с помощью alphafold2 и создать модель его комплекса с олигосахаридом с помощью modeller (в качестве template использовать комплекс https://www.rcsb.org/structure/1LMP). Подсказки: https://vsb.fbb.msu.ru/share/modeller/node18.html\n",
        "\n"
      ]
    },
    {
      "cell_type": "code",
      "execution_count": null,
      "metadata": {
        "id": "RQ_7PZl-pYIb"
      },
      "outputs": [],
      "source": []
    }
  ],
  "metadata": {
    "colab": {
      "provenance": []
    },
    "kernelspec": {
      "display_name": "Python 3",
      "language": "python",
      "name": "python3"
    },
    "language_info": {
      "codemirror_mode": {
        "name": "ipython",
        "version": 3
      },
      "file_extension": ".py",
      "mimetype": "text/x-python",
      "name": "python",
      "nbconvert_exporter": "python",
      "pygments_lexer": "ipython3",
      "version": "3.7.12"
    }
  },
  "nbformat": 4,
  "nbformat_minor": 0
}