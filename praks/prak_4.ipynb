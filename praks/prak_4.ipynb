{
  "cells": [
    {
      "cell_type": "markdown",
      "source": [
        "# Дизайн стабильности"
      ],
      "metadata": {
        "id": "uQpU-uzzEGYQ"
      },
      "id": "uQpU-uzzEGYQ"
    },
    {
      "cell_type": "markdown",
      "source": [
        "## 0. Постановка задачи\n",
        "\n"
      ],
      "metadata": {
        "id": "8LrpAKkpESDH"
      },
      "id": "8LrpAKkpESDH"
    },
    {
      "cell_type": "markdown",
      "source": [
        "*весь код - для запуска в колабе. перед запуском включите gpu*"
      ],
      "metadata": {
        "id": "gQ51EbqKwfYH"
      },
      "id": "gQ51EbqKwfYH"
    },
    {
      "cell_type": "markdown",
      "source": [
        "Возьмем структуру бактериальной бета-глюкозидазы B и попробуем улучшить ее стабильность разными методами"
      ],
      "metadata": {
        "id": "yZPA9w-HFrMS"
      },
      "id": "yZPA9w-HFrMS"
    },
    {
      "cell_type": "code",
      "source": [
        "import pandas as pd\n",
        "import numpy as np\n",
        "import seaborn as sns\n",
        "import matplotlib.pyplot as plt\n",
        "import time\n"
      ],
      "metadata": {
        "id": "t5ounWkG7ELY"
      },
      "id": "t5ounWkG7ELY",
      "execution_count": null,
      "outputs": []
    },
    {
      "cell_type": "code",
      "source": [
        "! wget https://files.rcsb.org/download/2JIE.pdb # скачаем файл со структурой"
      ],
      "metadata": {
        "id": "d8bXFpc_BjV9"
      },
      "id": "d8bXFpc_BjV9",
      "execution_count": null,
      "outputs": []
    },
    {
      "cell_type": "markdown",
      "source": [
        "Визуализируем структуру\n"
      ],
      "metadata": {
        "id": "oB7mKiXPojhD"
      },
      "id": "oB7mKiXPojhD"
    },
    {
      "cell_type": "code",
      "source": [
        "!pip install py3Dmol\n",
        "import py3Dmol"
      ],
      "metadata": {
        "id": "M6leqvg594M9"
      },
      "id": "M6leqvg594M9",
      "execution_count": null,
      "outputs": []
    },
    {
      "cell_type": "code",
      "source": [
        "p = py3Dmol.view(js='https://3dmol.org/build/3Dmol.js')\n",
        "\n",
        "p.addModel(open('/content/2JIE.pdb','r').read(),'pdb') # добавить модель из файла\n",
        "\n",
        "p.setStyle({'cartoon': {'color':'green'}}) # отобразить все в виде cartoon и покрасить в зеленый\n",
        "\n",
        "selection = {'resn':'G2F','byres':'true', 'expand': 5} # выбрать остатки на расстоянии не дальше 5 ангстрем от лиганда\n",
        "p.setStyle(selection,{'stick':{'colorscheme':'greenCarbon'}}) # выбранное отобразить в виде палочек\n",
        "\n",
        "p.setStyle({'resn': 'G2F'},{'sphere': {'colorscheme': 'greenCarbon'}}) # лиганд отобразить в виде сфер\n",
        "\n",
        "p.zoomTo() # центрировать структуру\n",
        "\n",
        "p.show()"
      ],
      "metadata": {
        "id": "9kHaeH7e91tM"
      },
      "id": "9kHaeH7e91tM",
      "execution_count": null,
      "outputs": []
    },
    {
      "cell_type": "markdown",
      "source": [
        "Белок состоит из одной белковой цепи и связывает 2-F-глюкозу. Предположим, что остатки, близкие к лиганду, участвуют в его связывании и катализе, а потому их мутировать не будем, чтобы не потерять функцию."
      ],
      "metadata": {
        "id": "rDq8QhKtGEB1"
      },
      "id": "rDq8QhKtGEB1"
    },
    {
      "cell_type": "markdown",
      "source": [
        "Выберем и запомним эти остатки"
      ],
      "metadata": {
        "id": "l27LfJZ8rB-f"
      },
      "id": "l27LfJZ8rB-f"
    },
    {
      "cell_type": "code",
      "source": [
        "!pip install Bio\n",
        "from Bio import PDB\n",
        "from Bio.PDB.PDBParser import PDBParser"
      ],
      "metadata": {
        "id": "HmT3nG7--a8L"
      },
      "id": "HmT3nG7--a8L",
      "execution_count": null,
      "outputs": []
    },
    {
      "cell_type": "code",
      "source": [
        "parser=PDBParser()\n",
        "structure=parser.get_structure(\"2JIE\",'2JIE.pdb')"
      ],
      "metadata": {
        "id": "VGEUFtAE-f1-"
      },
      "id": "VGEUFtAE-f1-",
      "execution_count": null,
      "outputs": []
    },
    {
      "cell_type": "code",
      "source": [
        "# проитерируем по всем атомам структуры и запишем атомы лиганда в список\n",
        "lig_atoms=[]\n",
        "for model in structure:\n",
        "    for chain in model:\n",
        "        for residue in chain:\n",
        "            if residue.get_resname()=='G2F':\n",
        "                lig_atoms.extend(residue.get_atoms())\n",
        "lig_atoms"
      ],
      "metadata": {
        "id": "bJy8V9Yj_Ivs"
      },
      "id": "bJy8V9Yj_Ivs",
      "execution_count": null,
      "outputs": []
    },
    {
      "cell_type": "code",
      "source": [
        "# найдем остатки, участвующие в связывании лиганда\n",
        "\n",
        "lresi=[]\n",
        "for model in structure:\n",
        "\n",
        "    ...\n",
        "\n",
        "lresi"
      ],
      "metadata": {
        "id": "1T34h6eB_rkE"
      },
      "id": "1T34h6eB_rkE",
      "execution_count": null,
      "outputs": []
    },
    {
      "cell_type": "markdown",
      "source": [
        "## 1. FoldX"
      ],
      "metadata": {
        "id": "FkEXrGyjBLEn"
      },
      "id": "FkEXrGyjBLEn"
    },
    {
      "cell_type": "markdown",
      "source": [
        "from https://github.com/leandroradusky/pyfoldx/blob/master/notebooks/StructureUsage.ipynb"
      ],
      "metadata": {
        "id": "WESKY2nCbQxi"
      },
      "id": "WESKY2nCbQxi"
    },
    {
      "cell_type": "markdown",
      "source": [
        "FoldX - популярный инструмент, используемый для дизайна белков и оценки энергий."
      ],
      "metadata": {
        "id": "Uu0LgPb4GmqN"
      },
      "id": "Uu0LgPb4GmqN"
    },
    {
      "cell_type": "code",
      "source": [
        "! pip install pyfoldx\n",
        "\n",
        "#! wget https://foldxsuite.crg.eu/system/files/foldx5Linux64.tar_.gz # для скачивания надо зарегистрироваться\n",
        "! gdown 152JYCr7Wmmp092aXFZxPGwMQegblWAlm # ссылка на заранее скачанный файл\n",
        "\n",
        "! mkdir foldx\n",
        "! tar -xvzf foldx5Linux64.tar_.gz -C foldx -v"
      ],
      "metadata": {
        "id": "zZOPmG1LL0aQ"
      },
      "id": "zZOPmG1LL0aQ",
      "execution_count": null,
      "outputs": []
    },
    {
      "cell_type": "code",
      "source": [
        "import os\n",
        "os.environ['FOLDX_BINARY'] = '/content/foldx/foldx_20231231'\n",
        "\n",
        "from pyfoldx.structure import Structure"
      ],
      "metadata": {
        "id": "6ElckonOPlwe"
      },
      "id": "6ElckonOPlwe",
      "execution_count": null,
      "outputs": []
    },
    {
      "cell_type": "markdown",
      "source": [
        "Загрузим структуру"
      ],
      "metadata": {
        "id": "-XNZF2usHLQy"
      },
      "id": "-XNZF2usHLQy"
    },
    {
      "cell_type": "code",
      "source": [
        "st=Structure(\"2JIE\",'2JIE.pdb')"
      ],
      "metadata": {
        "id": "ceubNV_DBSmg"
      },
      "id": "ceubNV_DBSmg",
      "execution_count": null,
      "outputs": []
    },
    {
      "cell_type": "markdown",
      "source": [
        "Рассчитаем энергию deltaG"
      ],
      "metadata": {
        "id": "ZsoDX5idHOEo"
      },
      "id": "ZsoDX5idHOEo"
    },
    {
      "cell_type": "code",
      "source": [
        "st.getTotalEnergy()"
      ],
      "metadata": {
        "id": "87YRMA6TG0Yz"
      },
      "id": "87YRMA6TG0Yz",
      "execution_count": null,
      "outputs": []
    },
    {
      "cell_type": "markdown",
      "source": [
        "Рассчитаем энергию для каждого остатка"
      ],
      "metadata": {
        "id": "8UmwwapBH0VW"
      },
      "id": "8UmwwapBH0VW"
    },
    {
      "cell_type": "code",
      "source": [
        "#! $FOLDX_BINARY --command=SequenceDetail --pdb=2JIE.pdb  # можно также запускать из консоли\n",
        "\n",
        "res_df=st.getResiduesEnergy()\n",
        "res_df['total']=res_df['total'].apply(float)\n",
        "res_df"
      ],
      "metadata": {
        "id": "2s-DWuLNBdbC"
      },
      "id": "2s-DWuLNBdbC",
      "execution_count": null,
      "outputs": []
    },
    {
      "cell_type": "markdown",
      "source": [
        "У программы FoldX есть метод repair, который минимизирует энергию структуры, подбирая оптимальные с точки зрения энергии ротамеры."
      ],
      "metadata": {
        "id": "AN_OqUT4H62N"
      },
      "id": "AN_OqUT4H62N"
    },
    {
      "cell_type": "code",
      "source": [
        "%%time\n",
        "stRepaired=st.repair()"
      ],
      "metadata": {
        "id": "j9IZ9q9xTY0N"
      },
      "id": "j9IZ9q9xTY0N",
      "execution_count": null,
      "outputs": []
    },
    {
      "cell_type": "code",
      "source": [
        "print( \"Original Structure energy\" )\n",
        "print( float(st.getTotalEnergy().total) )\n",
        "print()\n",
        "print( \"Repaired Structure energy\" )\n",
        "print( float(stRepaired.getTotalEnergy().total) )\n"
      ],
      "metadata": {
        "id": "6KOP2N4JUxxo"
      },
      "id": "6KOP2N4JUxxo",
      "execution_count": null,
      "outputs": []
    },
    {
      "cell_type": "markdown",
      "source": [
        "Визуализируем оптимизацию"
      ],
      "metadata": {
        "id": "5GU3r7h9IYuK"
      },
      "id": "5GU3r7h9IYuK"
    },
    {
      "cell_type": "code",
      "source": [
        "# создадим новый датасет с энергиями оригинальной и оптимизированной миодели\n",
        "combinedDf = res_df[[\"sec_struct\",\"total\" ]]\n",
        "combinedDf['repaired'] = stRepaired.getResiduesEnergy(consider_waters=True)[[\"total\"]].astype(float)\n",
        "combinedDf.columns=[\"Secondary structure\",'Original', \"Repaired\"]\n",
        "\n",
        "fig, (ax1, ax2) = plt.subplots(figsize=(20, 3), nrows=2)\n",
        "\n",
        "# изобразим энергии в виде heatmap\n",
        "sns.heatmap(combinedDf[['Original', \"Repaired\"]].T.astype('float64'), ax=ax1)\n",
        "ax1.set_xticks([])\n",
        "ax1.set_xlabel('')\n",
        "\n",
        "# отобразим элементы вторичной структуры в виде heatmap\n",
        "value_to_int = {value: i for i, value in enumerate([ 'a', '3', 'B', 'b', 'E', 'T','*', 'n', 'c'])}\n",
        "sns.heatmap(combinedDf[[\"Secondary structure\"]].T.replace(value_to_int),\n",
        "            ax=ax2, cmap=sns.color_palette(\"Spectral\", len(value_to_int)) )\n",
        "colorbar = ax2.collections[0].colorbar\n",
        "r = colorbar.vmax - colorbar.vmin\n",
        "colorbar.set_ticks([(len(value_to_int)-1)/len(value_to_int)*(0.5 + i) for i in range(len(value_to_int))])\n",
        "colorbar.set_ticklabels([ 'a', '3', 'B', 'b', 'E', 'T','*', 'n', 'c'])\n",
        "\n",
        "plt.plot()"
      ],
      "metadata": {
        "id": "pOh_UXS9T2Ef"
      },
      "id": "pOh_UXS9T2Ef",
      "execution_count": null,
      "outputs": []
    },
    {
      "cell_type": "markdown",
      "source": [
        "Выберем самые энергетически неэффективные остатки и попробуем их мутировать, чтобы улучшить общую стабильность белка"
      ],
      "metadata": {
        "id": "ALccuQt7Ie-Z"
      },
      "id": "ALccuQt7Ie-Z"
    },
    {
      "cell_type": "code",
      "source": [
        "combinedDf.Repaired.hist()"
      ],
      "metadata": {
        "id": "yV7tKFFcojnU"
      },
      "id": "yV7tKFFcojnU",
      "execution_count": null,
      "outputs": []
    },
    {
      "cell_type": "code",
      "source": [
        "pos_to_mutate=combinedDf.Repaired.sort_values(ascending=False).index # отсортируем остатки по энергиям\n",
        "pos_to_mutate=[int(x[2]) for x in pos_to_mutate]\n"
      ],
      "metadata": {
        "id": "UBuFMEDhsLlc"
      },
      "id": "UBuFMEDhsLlc",
      "execution_count": null,
      "outputs": []
    },
    {
      "cell_type": "markdown",
      "source": [
        "Выберем самые энергетически неэффективные остатки для мутации. Убедимся, что остатки, подвергающиеся мутации, не участвуют в связывании лиганда"
      ],
      "metadata": {
        "id": "WwTSt1GVIrea"
      },
      "id": "WwTSt1GVIrea"
    },
    {
      "cell_type": "code",
      "source": [
        "..."
      ],
      "metadata": {
        "id": "VX8kp2Z_OfLa"
      },
      "id": "VX8kp2Z_OfLa",
      "execution_count": null,
      "outputs": []
    },
    {
      "cell_type": "markdown",
      "source": [
        "Оценим изменение энергии при заменах каждого остатка из выбранных"
      ],
      "metadata": {
        "id": "EUh_0d7VJDbO"
      },
      "id": "EUh_0d7VJDbO"
    },
    {
      "cell_type": "code",
      "source": [
        "%%time\n",
        "mut_df=stRepaired.positionScan(positions=pos_to_mutate, chain='A') # занимает минут 5 на 1 мутацию\n",
        "mut_df"
      ],
      "metadata": {
        "id": "sNZyeVFQiMWF"
      },
      "id": "sNZyeVFQiMWF",
      "execution_count": null,
      "outputs": []
    },
    {
      "cell_type": "markdown",
      "source": [
        "Выберем мутации и промутируем структуру"
      ],
      "metadata": {
        "id": "w2FdPp92JOaY"
      },
      "id": "w2FdPp92JOaY"
    },
    {
      "cell_type": "code",
      "source": [
        "mut_df.values.argmin(axis=0) # выбираем для каждой позиции наиболее энегретически выгодные замены"
      ],
      "metadata": {
        "id": "7J8lTPUlZfpw"
      },
      "id": "7J8lTPUlZfpw",
      "execution_count": null,
      "outputs": []
    },
    {
      "cell_type": "code",
      "source": [
        "mutations=[x[0][0]+'A'+x[0][1:]+x[1] for x in zip(mut_df.columns,mut_df.index[mut_df.values.argmin(axis=0)])] # переформатируем мутации в нужный формат (resname+chain+resid+mut)\n",
        "mutations"
      ],
      "metadata": {
        "id": "yPxfCXxYnyH0"
      },
      "id": "yPxfCXxYnyH0",
      "execution_count": null,
      "outputs": []
    },
    {
      "cell_type": "code",
      "source": [
        "%%time\n",
        "mut_df, mut_ens, wt_ens = stRepaired.mutate(','.join(mutations)+';',number_of_runs=5)\n",
        "mut_df"
      ],
      "metadata": {
        "id": "4hyMz7S5of7j"
      },
      "id": "4hyMz7S5of7j",
      "execution_count": null,
      "outputs": []
    },
    {
      "cell_type": "markdown",
      "source": [
        "Оценим выигрыш по энергии"
      ],
      "metadata": {
        "id": "u62Z3I2gJWuY"
      },
      "id": "u62Z3I2gJWuY"
    },
    {
      "cell_type": "code",
      "source": [
        "print( \"Original Structure energy\" )\n",
        "print( wt_ens.getTotalEnergy().total.apply(float).mean())\n",
        "print()\n",
        "print( \"Mutated Structure energy\" )\n",
        "print( mut_ens.getTotalEnergy().total.apply(float).mean())\n"
      ],
      "metadata": {
        "id": "xfEereM4ryQl"
      },
      "id": "xfEereM4ryQl",
      "execution_count": null,
      "outputs": []
    },
    {
      "cell_type": "markdown",
      "source": [
        "Визуализируем мутантный белок"
      ],
      "metadata": {
        "id": "Rw9zwQBlJZTw"
      },
      "id": "Rw9zwQBlJZTw"
    },
    {
      "cell_type": "code",
      "source": [
        "with open('/content/2JIE_foldx.pdb','w') as f: # запишем мутантный белок в файл\n",
        "    f.write('\\n'.join(mut_ens.frames[3].toPdb()))"
      ],
      "metadata": {
        "id": "ZI-7G2gpClYj"
      },
      "id": "ZI-7G2gpClYj",
      "execution_count": null,
      "outputs": []
    },
    {
      "cell_type": "code",
      "source": [
        "p = py3Dmol.view(js='https://3dmol.org/build/3Dmol.js')\n",
        "\n",
        "p.addModel(open('/content/2JIE_foldx.pdb','r').read(),'pdb')\n",
        "p.setStyle({'cartoon': {'color':'green'}})\n",
        "p.setStyle({'resi': pos_to_mutate},{'stick':{'colorscheme':'blueCarbon'}})\n",
        "\n",
        "p.zoomTo()\n",
        "p.show()"
      ],
      "metadata": {
        "id": "5NG16Q3bCFrv"
      },
      "id": "5NG16Q3bCFrv",
      "execution_count": null,
      "outputs": []
    },
    {
      "cell_type": "markdown",
      "source": [
        "## 2. trDesign"
      ],
      "metadata": {
        "id": "MXPfjBo_ZgCn"
      },
      "id": "MXPfjBo_ZgCn"
    },
    {
      "cell_type": "markdown",
      "source": [
        "trDesign - набор методов для дизайна белков, использующий trRosetta - нейросеть для предсказания структуры белка"
      ],
      "metadata": {
        "id": "WP7EkCAZJf56"
      },
      "id": "WP7EkCAZJf56"
    },
    {
      "cell_type": "markdown",
      "source": [
        "from https://github.com/gjoni/trDesign/blob/master/02-GD/notebooks/TrDesign_GD_demo.ipynb"
      ],
      "metadata": {
        "id": "bg64UCJhbEHK"
      },
      "id": "bg64UCJhbEHK"
    },
    {
      "cell_type": "markdown",
      "source": [
        "![image](https://camo.githubusercontent.com/eaafe9b0da4f6867a9503ced271af659d15f1c7d435bc7209f87f88ed4f55908/68747470733a2f2f7261772e67697468756275736572636f6e74656e742e636f6d2f676a6f6e692f747244657369676e2f6d61737465722f30322d47442f6e6f7465626f6f6b732f6669677572655f312e706e67)"
      ],
      "metadata": {
        "id": "99ayweEua1iH"
      },
      "id": "99ayweEua1iH"
    },
    {
      "cell_type": "markdown",
      "source": [
        "Один из вариантов его применения - дизайн последовательности под известный фолд. Для этого на вход модели подается случайная последовательность. Разница между предсказанной и целевой структурой используется для расчета градиента, в котором последовательность оптимизируется методом стохастического градиентного спуска. Было показано, что данный алгоритм предпочитает выбирать наиболее энергетически выгодные последовательности."
      ],
      "metadata": {
        "id": "y1nsq2e_J4vV"
      },
      "id": "y1nsq2e_J4vV"
    },
    {
      "cell_type": "code",
      "source": [
        "!wget -qnc https://raw.githubusercontent.com/gjoni/trDesign/master/02-GD/models.py\n",
        "!wget -qnc https://raw.githubusercontent.com/gjoni/trDesign/master/02-GD/utils.py\n",
        "!wget -qnc https://files.ipd.uw.edu/krypton/TrRosetta/design/to_pdb.py\n",
        "!wget -qnc https://files.ipd.uw.edu/krypton/TrRosetta/models.zip\n",
        "!wget -qnc https://files.ipd.uw.edu/krypton/TrRosetta/bkgr_models.zip\n",
        "!unzip -qqo models.zip\n",
        "!unzip -qqo bkgr_models.zip"
      ],
      "metadata": {
        "id": "o7fbwaAvZiWM"
      },
      "id": "o7fbwaAvZiWM",
      "execution_count": null,
      "outputs": []
    },
    {
      "cell_type": "code",
      "source": [
        "from utils import *\n",
        "from models import *\n",
        "from to_pdb import *"
      ],
      "metadata": {
        "id": "2nRNS0DWZupK"
      },
      "id": "2nRNS0DWZupK",
      "execution_count": null,
      "outputs": []
    },
    {
      "cell_type": "markdown",
      "source": [
        "Загрузим белок и получим признаки, которые будут использоваться в модели. Это закодированная последовательность белка, и попарные расстояния и углы между остатками."
      ],
      "metadata": {
        "id": "4JAabt39LadM"
      },
      "id": "4JAabt39LadM"
    },
    {
      "cell_type": "code",
      "source": [
        "pdb = prep_input(\"/content/2JIE.pdb\", chain=\"A\", mask_gaps=False)\n",
        "_feat = pdb[\"feat\"]\n",
        "_seq = np.eye(20)[AA_to_N(pdb[\"seq\"])]"
      ],
      "metadata": {
        "id": "5rzsUhFrZ_kK"
      },
      "id": "5rzsUhFrZ_kK",
      "execution_count": null,
      "outputs": []
    },
    {
      "cell_type": "code",
      "source": [
        "plt.figure(figsize=(20,2) )\n",
        "plt.imshow(_seq.T, cmap=\"binary\")"
      ],
      "metadata": {
        "id": "kGmctHjvaWr4"
      },
      "id": "kGmctHjvaWr4",
      "execution_count": null,
      "outputs": []
    },
    {
      "cell_type": "code",
      "source": [
        "plt.figure(figsize=(20,4) )\n",
        "\n",
        "for n,(k,v) in enumerate(split_feat(_feat).items()):\n",
        "    plt.subplot(1,4,n+1); plt.title(k)\n",
        "    plt.imshow(np.squeeze(v).argmax(-1),cmap=\"binary\")\n",
        "plt.show()"
      ],
      "metadata": {
        "id": "GbJA_R-orWTI"
      },
      "id": "GbJA_R-orWTI",
      "execution_count": null,
      "outputs": []
    },
    {
      "cell_type": "markdown",
      "source": [
        "![image2](https://camo.githubusercontent.com/cdd8cf473fe975cb15db2b5c2789bd622a0ca11b3994726976ba0d5fbccede7e/68747470733a2f2f7261772e67697468756275736572636f6e74656e742e636f6d2f676a6f6e692f747244657369676e2f6d61737465722f30322d47442f6e6f7465626f6f6b732f36442e706e67)"
      ],
      "metadata": {
        "id": "mHsM4U_vVB3R"
      },
      "id": "mHsM4U_vVB3R"
    },
    {
      "cell_type": "markdown",
      "source": [
        "Загрузим модель и запустим дизайн"
      ],
      "metadata": {
        "id": "IKjYiuRDMPpj"
      },
      "id": "IKjYiuRDMPpj"
    },
    {
      "cell_type": "code",
      "source": [
        "# вопрос: как ограничить модель, чтобы она оптимизировала только определенную часть последовательности?\n",
        "# https://github.com/gjoni/trDesign/issues/2\n",
        "\n",
        "...\n",
        "\n",
        "for i in range(_seq.shape[1]):\n",
        "    if (i+5) in lresi: # обращаем внимание на несовпадение нумераций остатков\n",
        "        _seq[:,i,:]=_seq[:,i,:]*1e8 # остаткам, которые надо сохранить, присвоим большие значения, чтобы они не менялись при шаге оптимизации"
      ],
      "metadata": {
        "id": "IG8rYK5yRJ_J"
      },
      "id": "IG8rYK5yRJ_J",
      "execution_count": null,
      "outputs": []
    },
    {
      "cell_type": "code",
      "source": [
        "model = mk_design_model(add_pdb=True, n_models=1)"
      ],
      "metadata": {
        "id": "wmc6OL7gty6W"
      },
      "id": "wmc6OL7gty6W",
      "execution_count": null,
      "outputs": []
    },
    {
      "cell_type": "code",
      "source": [
        "%%time\n",
        "design = model.design(inputs={\"I\":_seq[None],\"pdb\":_feat[None]}, opt_iter=200, opt_method=\"ADAM\", num=1)"
      ],
      "metadata": {
        "id": "2heyLJm_t4sM"
      },
      "id": "2heyLJm_t4sM",
      "execution_count": null,
      "outputs": []
    },
    {
      "cell_type": "markdown",
      "source": [
        "Визуализируем полученную последовательность"
      ],
      "metadata": {
        "id": "K0EX0C5ePksY"
      },
      "id": "K0EX0C5ePksY"
    },
    {
      "cell_type": "code",
      "source": [
        "plt.figure(figsize=(20,2) )\n",
        "plt.subplot(211)\n",
        "plt.imshow(np.clip(_seq.T, 0, 1), cmap=\"binary\")\n",
        "plt.subplot(212)\n",
        "plt.imshow(np.clip(design['I'].T, 0, 1), cmap=\"binary\")\n",
        "plt.plot()"
      ],
      "metadata": {
        "id": "CllSJJ430T2H"
      },
      "id": "CllSJJ430T2H",
      "execution_count": null,
      "outputs": []
    },
    {
      "cell_type": "code",
      "source": [
        "print(pdb[\"seq\"])\n",
        "print(N_to_AA(design[\"I\"].argmax(-1)))"
      ],
      "metadata": {
        "id": "sk3pXHv62iN2"
      },
      "id": "sk3pXHv62iN2",
      "execution_count": null,
      "outputs": []
    },
    {
      "cell_type": "code",
      "source": [
        "plt.figure(figsize=(20,8) )\n",
        "\n",
        "for n,(k,v) in enumerate(split_feat(_feat).items()):\n",
        "    plt.subplot(2,4,n+1); plt.title(k)\n",
        "    plt.imshow(np.squeeze(v).argmax(-1),cmap=\"binary\")\n",
        "\n",
        "for n,(k,v) in enumerate(split_feat(design[\"feat\"]).items()):\n",
        "    plt.subplot(2,4,4+n+1); plt.title(k)\n",
        "    plt.imshow(np.squeeze(v).argmax(-1),cmap=\"binary\")\n",
        "plt.show()"
      ],
      "metadata": {
        "id": "cPOnImeVSWia"
      },
      "id": "cPOnImeVSWia",
      "execution_count": null,
      "outputs": []
    },
    {
      "cell_type": "markdown",
      "source": [
        "Сохраним в файл"
      ],
      "metadata": {
        "id": "Iz8MLh0jPrkv"
      },
      "id": "Iz8MLh0jPrkv"
    },
    {
      "cell_type": "code",
      "source": [
        "seq = N_to_AA(np.squeeze(design[\"I\"]).argmax(-1))[0]\n",
        "xyz, dm = feat_to_xyz(np.squeeze(design[\"feat\"]))\n",
        "save_PDB(\"/content/2JIE_trdesign.pdb\", xyz, dm, seq)"
      ],
      "metadata": {
        "id": "UY9FE5_v6D0n"
      },
      "id": "UY9FE5_v6D0n",
      "execution_count": null,
      "outputs": []
    },
    {
      "cell_type": "markdown",
      "source": [
        "Визуализируем"
      ],
      "metadata": {
        "id": "mxes2EJwei9M"
      },
      "id": "mxes2EJwei9M"
    },
    {
      "cell_type": "code",
      "source": [
        "p = py3Dmol.view(js='https://3dmol.org/build/3Dmol.js')\n",
        "p.addModel(open('/content/2JIE_trdesign.pdb','r').read(),'pdb')\n",
        "p.setStyle({'cartoon': {'colorscheme':'greenCarbon'}})\n",
        "#p.setStyle({'sticks': {'colorscheme':'greenCarbon'}})\n",
        "p.zoomTo()\n",
        "p.show()"
      ],
      "metadata": {
        "id": "d5fGjp_-8yOD"
      },
      "id": "d5fGjp_-8yOD",
      "execution_count": null,
      "outputs": []
    },
    {
      "cell_type": "markdown",
      "source": [
        "Боковых цепей нам не завезли, попробуем реконструировать их с помощью foldX"
      ],
      "metadata": {
        "id": "oZLGh7riS_2O"
      },
      "id": "oZLGh7riS_2O"
    },
    {
      "cell_type": "code",
      "source": [
        "%%time\n",
        "! $FOLDX_BINARY --command=Optimize --pdb=2JIE_trdesign.pdb >> foldx.log"
      ],
      "metadata": {
        "id": "NtX6UTuPUTEu"
      },
      "id": "NtX6UTuPUTEu",
      "execution_count": null,
      "outputs": []
    },
    {
      "cell_type": "markdown",
      "source": [
        "Рассчитаем энергии сгенерированной структуры"
      ],
      "metadata": {
        "id": "8bFFzy9RenxL"
      },
      "id": "8bFFzy9RenxL"
    },
    {
      "cell_type": "code",
      "source": [
        "st_tr=Structure(\"2JIE_trdesign\",'/content/Optimized_2JIE_trdesign.pdb')\n",
        "st_tr.getTotalEnergy()"
      ],
      "metadata": {
        "id": "G6pvElo57MBd"
      },
      "id": "G6pvElo57MBd",
      "execution_count": null,
      "outputs": []
    },
    {
      "cell_type": "markdown",
      "source": [
        "Попробуем оптимизировать структуру"
      ],
      "metadata": {
        "id": "8cbUKGCqx0Vj"
      },
      "id": "8cbUKGCqx0Vj"
    },
    {
      "cell_type": "code",
      "source": [
        "\n",
        "st_trRepaired=st_tr.repair()\n",
        "print( \"Original Structure energy\" )\n",
        "print( float(st_tr.getTotalEnergy().total) )\n",
        "print()\n",
        "print( \"Repaired Structure energy\" )\n",
        "print( float(st_trRepaired.getTotalEnergy().total) )\n"
      ],
      "metadata": {
        "id": "a3JeNAP1clAJ"
      },
      "id": "a3JeNAP1clAJ",
      "execution_count": null,
      "outputs": []
    },
    {
      "cell_type": "markdown",
      "source": [
        "Попробуем получить структуру сгенерированной нами последовательности не с помощью trRosetta, а другим методом, например, гомологичным моделированием (смотри предыдущий прак)"
      ],
      "metadata": {
        "id": "TXLglBdlcdIP"
      },
      "id": "TXLglBdlcdIP"
    },
    {
      "cell_type": "code",
      "source": [
        "! cd /tmp/ ; wget https://salilab.org/modeller/10.1/modeller_10.1-1_amd64.deb\n",
        "! env KEY_MODELLER=\"MODELIRANJE\" dpkg -i /tmp/modeller_10.1-1_amd64.deb\n",
        "! echo -e \"install_dir = r'/usr/lib/modeller10.1'\\nlicense = 'MODELIRANJE'\" > /usr/lib/modeller10.1/modlib/modeller/config.py\n",
        "\n",
        "import sys\n",
        "sys.path.append('/usr/lib/python3.9/dist-packages')\n"
      ],
      "metadata": {
        "id": "TjMMVz6guKYK"
      },
      "id": "TjMMVz6guKYK",
      "execution_count": null,
      "outputs": []
    },
    {
      "cell_type": "code",
      "source": [
        "import modeller\n",
        "from modeller import automodel\n",
        "\n",
        "env=modeller.environ()\n",
        "aln=modeller.alignment(env)\n",
        "\n",
        "\n",
        "aln.append_sequence(N_to_AA(design[\"I\"].argmax(-1))[0])\n",
        "aln[0].code='mut'\n",
        "aln\n",
        "\n",
        "pdbl = PDB.PDBList()\n",
        "mdl = modeller.model(env, file='2JIE.pdb')\n",
        "aln.append_model(mdl, atom_files='2JIE.pdb', align_codes='2JIE')\n",
        "aln.salign()\n",
        "aln.write(file='ali.ali', alignment_format='PIR')\n",
        "\n",
        "a = automodel.automodel(env, alnfile='ali.ali', knowns= '2JIE', sequence = 'mut' )\n",
        "\n",
        "a.starting_model = 1\n",
        "a.ending_model = 2\n",
        "a.make()"
      ],
      "metadata": {
        "id": "62F1MXylfSxv"
      },
      "id": "62F1MXylfSxv",
      "execution_count": null,
      "outputs": []
    },
    {
      "cell_type": "code",
      "source": [
        "..."
      ],
      "metadata": {
        "id": "6_CqDyIX0bAP"
      },
      "id": "6_CqDyIX0bAP",
      "execution_count": null,
      "outputs": []
    },
    {
      "cell_type": "markdown",
      "source": [
        "## 3. Домашняя работа"
      ],
      "metadata": {
        "id": "sThFgtGecdkY"
      },
      "id": "sThFgtGecdkY"
    },
    {
      "cell_type": "markdown",
      "source": [
        "Используйте RaSP (https://github.com/KULL-Centre/_2022_ML-ddG-Blaabjerg/) для предсказания эффектов мутаций. Выберите несколько наиболее эффективных по мнению RaSP мутаций, внесите их в структуру и оцените изменения энергии"
      ],
      "metadata": {
        "id": "7WwWF1o7hLsE"
      },
      "id": "7WwWF1o7hLsE"
    }
  ],
  "metadata": {
    "kernelspec": {
      "display_name": "Python 3",
      "name": "python3"
    },
    "language_info": {
      "codemirror_mode": {
        "name": "ipython",
        "version": 3
      },
      "file_extension": ".py",
      "mimetype": "text/x-python",
      "name": "python",
      "nbconvert_exporter": "python",
      "pygments_lexer": "ipython3",
      "version": "3.7.12"
    },
    "colab": {
      "provenance": [],
      "gpuType": "T4"
    },
    "accelerator": "GPU"
  },
  "nbformat": 4,
  "nbformat_minor": 5
}