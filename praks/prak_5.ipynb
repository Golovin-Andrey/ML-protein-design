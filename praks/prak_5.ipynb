{
  "cells": [
    {
      "cell_type": "markdown",
      "metadata": {
        "id": "7DhDTplxk8Hc"
      },
      "source": [
        "# Дизайн хода остова белка"
      ]
    },
    {
      "cell_type": "markdown",
      "metadata": {
        "id": "fieXzJ_FlYck"
      },
      "source": [
        "*весь код - для запуска в колабе. перед запуском включите gpu*"
      ]
    },
    {
      "cell_type": "markdown",
      "metadata": {
        "id": "WKEOlbYWmCoF"
      },
      "source": [
        "## 1. Постановка задачи"
      ]
    },
    {
      "cell_type": "markdown",
      "metadata": {
        "id": "b7Mb1q6klZcG"
      },
      "source": [
        "Возьмем структуру [альфа-конотоксина](https://www.rcsb.org/structure/1AKG) и попробуем задизайнить структуру белка, способного его связывать."
      ]
    },
    {
      "cell_type": "markdown",
      "metadata": {
        "id": "BqqfhkUtl441"
      },
      "source": [
        "Загрузим файл со структурой и визуализируем ее."
      ]
    },
    {
      "cell_type": "code",
      "execution_count": null,
      "metadata": {
        "id": "UlaHunAsPgow"
      },
      "outputs": [],
      "source": [
        "! wget https://files.rcsb.org/download/1AKG.pdb"
      ]
    },
    {
      "cell_type": "code",
      "execution_count": null,
      "metadata": {
        "id": "M-_-05gEpNeC"
      },
      "outputs": [],
      "source": [
        "!pip install py3Dmol\n",
        "!pip install Bio\n",
        "\n",
        "from Bio import PDB\n",
        "from Bio.PDB.PDBParser import PDBParser\n",
        "import py3Dmol"
      ]
    },
    {
      "cell_type": "code",
      "execution_count": null,
      "metadata": {
        "id": "BY3BqhHRuzwY"
      },
      "outputs": [],
      "source": [
        "p = py3Dmol.view(js='https://3dmol.org/build/3Dmol.js')\n",
        "\n",
        "p.addModel(open('/content/1AKG.pdb','r').read(),'pdb')\n",
        "p.setStyle({'stick':{'colorscheme':'grayCarbon'}})\n",
        "\n",
        "p.zoomTo() # центрировать структуру\n",
        "p.show()"
      ]
    },
    {
      "cell_type": "code",
      "execution_count": null,
      "metadata": {
        "id": "v2A74MXUvYFI"
      },
      "outputs": [],
      "source": [
        "parser=PDBParser()\n",
        "structure=parser.get_structure(\"1AKG\",'1AKG.pdb')\n",
        "for model in structure:\n",
        "    for chain in model:\n",
        "        for residue in chain:\n",
        "            if residue.id[0]==' ':\n",
        "                print(chain.id, residue.id[1], residue.get_resname())"
      ]
    },
    {
      "cell_type": "markdown",
      "metadata": {
        "id": "mBfOqxoqmY2r"
      },
      "source": [
        "## 2. Галлюцинации"
      ]
    },
    {
      "cell_type": "markdown",
      "metadata": {
        "id": "aVVa5R52muG6"
      },
      "source": [
        "Используем метод галлюцинаций RFDesign (https://github.com/RosettaCommons/RFDesign/tree/main/hallucination)."
      ]
    },
    {
      "cell_type": "markdown",
      "metadata": {
        "id": "B2gwHEbhs-EV"
      },
      "source": [
        "Данный метод использует модель для предсказания белковой структуры RosettaFold. Модель получает на вход случайную последовательность и попарную матрицу расстояний и с помощью множества шагов оптимизации (SGD и MCMC) минимизирует лосс-функцию. Также реализована ограниченная галлюцинация, когда на вход подается частично известная последовательность и/или структура и галлюцинируются недостающие части."
      ]
    },
    {
      "cell_type": "code",
      "execution_count": null,
      "metadata": {
        "id": "PJljZXSNphIT"
      },
      "outputs": [],
      "source": [
        "# get repo and install dependencies\n",
        "!git clone https://github.com/RosettaCommons/RFDesign.git\n",
        "!pip -q install torch-geometric lie_learn icecream e3nn py3Dmol omegaconf\n",
        "!pip install dgl -f https://data.dgl.ai/wheels/cu121/repo.html\n",
        "\n",
        "# get weights\n",
        "!wget http://files.ipd.uw.edu/pub/rfdesign/weights/BFF_last.pt -P RFDesign/hallucination/weights/rf_Nov05/\n",
        "!wget http://files.ipd.uw.edu/pub/rfdesign/weights/BFF_mix_epoch25.pt -P RFDesign/inpainting/weights/\n",
        "\n",
        "# get pyrosetta for sidechain relaxation\n",
        "!gdown 1Pts0USd16GAtqz5v_4ErTu_7YBpysF9G\n",
        "!pip install pyrosetta-2023.45+release.a6d9ba8-cp310-cp310-linux_x86_64.whl"
      ]
    },
    {
      "cell_type": "code",
      "execution_count": null,
      "metadata": {
        "id": "M5_uBxRMwnFp"
      },
      "outputs": [],
      "source": [
        "%%time\n",
        "!mkdir toxin_hal\n",
        "!python RFDesign/hallucination/hallucinate.py \\\n",
        "--pdb 1AKG.pdb --mask=80-100 --use_template no_contig \\\n",
        "--receptor 1AKG.pdb --steps=g100,m300 \\\n",
        "--w_rep 1 --w_atr 1 --rep_pdb 1AKG.pdb --atr_pdb 1AKG.pdb \\\n",
        "--num 1 --out toxin_hal/result\n"
      ]
    },
    {
      "cell_type": "markdown",
      "metadata": {
        "id": "zt2DEHf0pa5X"
      },
      "source": [
        "Посмотрим на сгенерированную последовательность"
      ]
    },
    {
      "cell_type": "code",
      "execution_count": null,
      "metadata": {
        "id": "aShtVG0jMjpO"
      },
      "outputs": [],
      "source": [
        "with open('/content/toxin_hal/result_0.fas','r') as f:\n",
        "    for line in f:\n",
        "        print(line)"
      ]
    },
    {
      "cell_type": "markdown",
      "metadata": {
        "id": "cRDm0rbfp2Nn"
      },
      "source": [
        "Сгенерированная структура исходно не имеет боковых цепей. Добавим их."
      ]
    },
    {
      "cell_type": "code",
      "execution_count": null,
      "metadata": {
        "id": "AJjh9pljW5Kv"
      },
      "outputs": [],
      "source": [
        "%%time\n",
        "! python RFDesign/scripts/RosettaTR/trfold_relax.py --roll -sg 7,3 toxin_hal/result_0.npz toxin_hal/result_0.pdb toxin_hal/result_0_relaxed.pdb"
      ]
    },
    {
      "cell_type": "markdown",
      "metadata": {
        "id": "3Q0xDOnaqACg"
      },
      "source": [
        "Визуализируем результат"
      ]
    },
    {
      "cell_type": "code",
      "execution_count": null,
      "metadata": {
        "id": "EHNHUZoGLzM-"
      },
      "outputs": [],
      "source": [
        "p = py3Dmol.view(js='https://3dmol.org/build/3Dmol.js')\n",
        "\n",
        "p.addModel(open('/content/toxin_hal/result_0_relaxed.pdb','r').read(),'pdb')\n",
        "p.setStyle({'chain': 'A'},{'stick':{'colorscheme':'greenCarbon'}})\n",
        "p.setStyle({'chain': 'B'},{'stick':{'colorscheme':'blueCarbon'}})\n",
        "\n",
        "p.zoomTo() # центрировать структуру\n",
        "p.show()"
      ]
    },
    {
      "cell_type": "markdown",
      "metadata": {
        "id": "_7GtwM5CqRb6"
      },
      "source": [
        "## 3. Диффузии"
      ]
    },
    {
      "cell_type": "markdown",
      "metadata": {
        "id": "8jRvSMgYrNl6"
      },
      "source": [
        "Используем диффузионную модель для генерации белка RFdiffusion (https://github.com/RosettaCommons/RFdiffusion)"
      ]
    },
    {
      "cell_type": "markdown",
      "metadata": {
        "id": "yWlFV0K4uslh"
      },
      "source": [
        "Данный метод основан на модели денойзинга, которая на вход получает случайно распределенные координаты остатков и с помощью нескольких шагов денойзинга оптимизирует их координаты, получая осмысленную структуру белка. Как и в предыдущем случае, возможна частичная диффузия, когда часть структуры уже известна."
      ]
    },
    {
      "cell_type": "markdown",
      "metadata": {
        "id": "nmCW7VyDjJjE"
      },
      "source": [
        "![diffusion](https://github.com/RosettaCommons/RFdiffusion/raw/main/img/main.png)"
      ]
    },
    {
      "cell_type": "code",
      "execution_count": null,
      "metadata": {
        "id": "7RlyVIyRi6c5"
      },
      "outputs": [],
      "source": [
        "!git clone https://github.com/RosettaCommons/RFdiffusion.git\n",
        "\n",
        "!wget http://files.ipd.uw.edu/pub/RFdiffusion/6f5902ac237024bdd0c176cb93063dc4/Base_ckpt.pt -P RFdiffusion/models -q\n",
        "#!wget http://files.ipd.uw.edu/pub/RFdiffusion/e29311f6f1bf1af907f9ef9f44b8328b/Complex_base_ckpt.pt -P RFdiffusion/models -q\n",
        "#!wget http://files.ipd.uw.edu/pub/RFdiffusion/60f09a193fb5e5ccdc4980417708dbab/Complex_Fold_base_ckpt.pt -P RFdiffusion/models -q\n",
        "#!wget http://files.ipd.uw.edu/pub/RFdiffusion/74f51cfb8b440f50d70878e05361d8f0/InpaintSeq_ckpt.pt -P RFdiffusion/models -q\n",
        "#!wget http://files.ipd.uw.edu/pub/RFdiffusion/76d00716416567174cdb7ca96e208296/InpaintSeq_Fold_ckpt.pt -P RFdiffusion/models -q\n",
        "#!wget http://files.ipd.uw.edu/pub/RFdiffusion/5532d2e1f3a4738decd58b19d633b3c3/ActiveSite_ckpt.pt -P RFdiffusion/models -q\n",
        "#!wget http://files.ipd.uw.edu/pub/RFdiffusion/12fc204edeae5b57713c5ad7dcb97d39/Base_epoch8_ckpt.pt -P RFdiffusion/models -q\n",
        "\n",
        "! pip install omegaconf hydra-core pyrsistent\n",
        "!cd RFdiffusion/env/SE3Transformer && python setup.py install\n",
        "!cd RFdiffusion && pip install -e ."
      ]
    },
    {
      "cell_type": "markdown",
      "metadata": {
        "id": "IJ4wqOlVrJF-"
      },
      "source": [
        "Запустим RFDiffusion."
      ]
    },
    {
      "cell_type": "code",
      "execution_count": null,
      "metadata": {
        "id": "6bgxUwTnjzmC"
      },
      "outputs": [],
      "source": [
        "%%time\n",
        "! RFdiffusion/scripts/run_inference.py \\\n",
        "inference.input_pdb=1AKG.pdb \\\n",
        "'contigmap.contigs=[A1-16/0 80-100]' \\\n",
        "inference.output_prefix=toxin_diff/result inference.num_designs=1"
      ]
    },
    {
      "cell_type": "markdown",
      "metadata": {
        "id": "OLlT9iS40iiS"
      },
      "source": [
        "Визуализируем результат"
      ]
    },
    {
      "cell_type": "code",
      "execution_count": null,
      "metadata": {
        "id": "egbJFGXopP7R"
      },
      "outputs": [],
      "source": [
        "p = py3Dmol.view(js='https://3dmol.org/build/3Dmol.js')\n",
        "\n",
        "p.addModel(open('/content/toxin_diff/result_0.pdb','r').read(),'pdb')\n",
        "p.setStyle({'chain': 'A'},{'stick':{'colorscheme':'greenCarbon'}})\n",
        "p.setStyle({'chain': 'B'},{'stick':{'colorscheme':'blueCarbon'}})\n",
        "p.zoomTo()\n",
        "p.show()"
      ]
    },
    {
      "cell_type": "code",
      "execution_count": null,
      "metadata": {
        "id": "CGndzCXxpleY"
      },
      "outputs": [],
      "source": [
        "parser=PDBParser(QUIET=True)\n",
        "structure=parser.get_structure(\"diff\",'/content/toxin_diff/result_0.pdb')\n",
        "for model in structure:\n",
        "    for chain in model:\n",
        "        print(len(chain))\n",
        "        print(' '.join([x.get_resname() for x in chain]))\n"
      ]
    },
    {
      "cell_type": "markdown",
      "metadata": {
        "id": "wM2NnMd51QFK"
      },
      "source": [
        "Как можно заметить, модель сгенерировала структуру исключительно из глицинов. Что можно сделать в таком случае? Восстановить последовательность. Для предсказания последовательности по структуре существуют самые разные методы."
      ]
    },
    {
      "cell_type": "markdown",
      "metadata": {
        "id": "gLNRdXKVCMar"
      },
      "source": [
        "## 4. Использование галлюцинаций для восстановления последовательности"
      ]
    },
    {
      "cell_type": "markdown",
      "metadata": {
        "id": "F7JmlfC3CSEG"
      },
      "source": [
        "На прошлом занятии мы уже разбирали методы дизайна последовательности под нужную структуру с помошью стохастического градиентногого спуска. Похожим образом можно использовать и фреймворк для галлюцинаций, заставив его галлюцинировать только последовательность, но не структуру.\n"
      ]
    },
    {
      "cell_type": "code",
      "execution_count": null,
      "metadata": {
        "id": "1Vnx5loGCSQD"
      },
      "outputs": [],
      "source": [
        "%%time\n",
        "!mkdir toxin_diff_hal\n",
        "!python RFDesign/hallucination/hallucinate.py \\\n",
        "--pdb toxin_diff/result_0.pdb --mask= ... --use_template True \\\n",
        "--receptor 1AKG.pdb --steps=g60,m100 \\\n",
        "--spike 0.05 --w_crmsd 1 \\\n",
        "--num 1 --out toxin_diff_hal/result\n"
      ]
    },
    {
      "cell_type": "code",
      "execution_count": null,
      "metadata": {
        "id": "aPGq7BYzNpx_"
      },
      "outputs": [],
      "source": [
        "! python RFDesign/scripts/RosettaTR/trfold_relax.py --roll -sg 7,3 toxin_diff_hal/result_0.npz toxin_diff_hal/result_0.pdb toxin_diff_hal/result_0_relaxed.pdb"
      ]
    },
    {
      "cell_type": "code",
      "execution_count": null,
      "metadata": {
        "id": "DtNdSWzqILqR"
      },
      "outputs": [],
      "source": [
        "p = py3Dmol.view(js='https://3dmol.org/build/3Dmol.js')\n",
        "\n",
        "p.addModel(open('/content/toxin_diff_hal/result_0_relaxed.pdb','r').read(),'pdb')\n",
        "p.setStyle({'chain': 'A'},{'stick':{'colorscheme':'greenCarbon'}})\n",
        "p.setStyle({'chain': 'B'},{'stick':{'colorscheme':'blueCarbon'}})\n",
        "p.zoomTo() # центрировать структуру\n",
        "p.show()"
      ]
    },
    {
      "cell_type": "code",
      "execution_count": null,
      "metadata": {
        "id": "5IX-XMfHfI3Y"
      },
      "outputs": [],
      "source": [
        "with open('/content/toxin_diff_hal/result_0.fas','r') as f:\n",
        "    for line in f:\n",
        "        print(line)"
      ]
    },
    {
      "cell_type": "markdown",
      "metadata": {
        "id": "o_VBqp0pJpkB"
      },
      "source": [
        "## 5. Нейросети для предсказания последовательности"
      ]
    },
    {
      "cell_type": "markdown",
      "metadata": {
        "id": "zczUU_Q5KXs0"
      },
      "source": [
        "Для предсказания последовательности по структуре также существуют и обычные нейросети, например, ProteinMPNN (https://github.com/dauparas/ProteinMPNN). Возьмем фреймворк (https://github.com/nrbennet/dl_binder_design), включающий в себя предсказание последовательности и восстановление боковых цепей"
      ]
    },
    {
      "cell_type": "code",
      "execution_count": null,
      "metadata": {
        "id": "g8j5DR7cL52-"
      },
      "outputs": [],
      "source": [
        "# get dl_binder_design to perform both sequence prediction and sidechain relaxation\n",
        "!git clone https://github.com/nrbennet/dl_binder_design.git\n",
        "!cd dl_binder_design/mpnn_fr; git clone https://github.com/dauparas/ProteinMPNN.git"
      ]
    },
    {
      "cell_type": "code",
      "execution_count": null,
      "metadata": {
        "id": "D-v2eC4nRlcX"
      },
      "outputs": [],
      "source": [
        "%%time\n",
        "!python dl_binder_design/helper_scripts/addFIXEDlabels.py --pdbdir toxin_diff --trbdir toxin_diff --verbose\n",
        "!python dl_binder_design/mpnn_fr/dl_interface_design.py  -pdbdir toxin_diff  -outpdbdir toxin_diff_mpnn \\\n",
        " -seqs_per_struct 1 -relax_cycles 2\n"
      ]
    },
    {
      "cell_type": "code",
      "execution_count": null,
      "metadata": {
        "id": "HiwqQOX2U7xe"
      },
      "outputs": [],
      "source": [
        "p = py3Dmol.view(js='https://3dmol.org/build/3Dmol.js')\n",
        "\n",
        "p.addModel(open('/content/toxin_diff_mpnn/result_0_dldesign_0_cycle2.pdb','r').read(),'pdb')\n",
        "p.setStyle({'chain': 'A'},{'stick':{'colorscheme':'greenCarbon'}})\n",
        "p.setStyle({'chain': 'B'},{'stick':{'colorscheme':'blueCarbon'}})\n",
        "p.zoomTo() # центрировать структуру\n",
        "p.show()"
      ]
    },
    {
      "cell_type": "code",
      "execution_count": null,
      "metadata": {
        "id": "voU_wB33fUKA"
      },
      "outputs": [],
      "source": [
        "parser=PDBParser(QUIET=True)\n",
        "structure=parser.get_structure(\"1AKG\",'toxin_diff_mpnn/result_0_dldesign_0_cycle2.pdb')\n",
        "for model in structure:\n",
        "    for chain in model:\n",
        "        print(len(chain))\n",
        "        print(' '.join([x.get_resname() for x in chain]))"
      ]
    },
    {
      "cell_type": "markdown",
      "metadata": {
        "id": "akZlr38CV2g4"
      },
      "source": [
        "## 6. Домашняя работа"
      ]
    },
    {
      "cell_type": "markdown",
      "metadata": {
        "id": "KClWY6jfV66K"
      },
      "source": [
        "1. Предскажите структуры сгенерированных последовательностей с помощью альфафолда, рассчитайте их rmsd со структурами, сгенерированными rfdesign и rfdiffusion, сделайте вывод о качестве предсказания.\n",
        "2. Рассчитайте внутреннюю энергию полученных комплексов, сделайте вывод о стабильности сгенерированных белков.\n",
        "\n",
        "*оба задания можно сделать с использованием функционала RFDesign (подсказки здесь https://github.com/RosettaCommons/RFDesign/blob/main/tutorials/halluc_PD-L1_binder/halluc_PD-L1_binder.ipynb)*"
      ]
    }
  ],
  "metadata": {
    "accelerator": "GPU",
    "colab": {
      "provenance": []
    },
    "kernelspec": {
      "display_name": "Python 3",
      "name": "python3"
    },
    "language_info": {
      "name": "python"
    }
  },
  "nbformat": 4,
  "nbformat_minor": 0
}
