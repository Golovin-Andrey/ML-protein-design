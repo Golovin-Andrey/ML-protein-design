{
  "cells": [
    {
      "cell_type": "markdown",
      "metadata": {
        "id": "7DhDTplxk8Hc"
      },
      "source": [
        "# Дизайн фермента"
      ]
    },
    {
      "cell_type": "markdown",
      "metadata": {
        "id": "fieXzJ_FlYck"
      },
      "source": [
        "*весь код - для запуска в колабе. перед запуском включите gpu*"
      ]
    },
    {
      "cell_type": "markdown",
      "source": [
        "Импорты"
      ],
      "metadata": {
        "id": "LOC_oXArPfyi"
      }
    },
    {
      "cell_type": "code",
      "execution_count": null,
      "metadata": {
        "id": "fRcCFlltVCat"
      },
      "outputs": [],
      "source": [
        "%%time\n",
        "import os, time, signal\n",
        "import sys, random, string, re\n",
        "if not os.path.isdir(\"params\"):\n",
        "  os.system(\"apt-get install aria2\")\n",
        "  os.system(\"mkdir params\")\n",
        "  # send param download into background\n",
        "  os.system(\"(\\\n",
        "  aria2c -q -x 16 https://files.ipd.uw.edu/krypton/schedules.zip; \\\n",
        "  aria2c -q -x 16 http://files.ipd.uw.edu/pub/RFdiffusion/6f5902ac237024bdd0c176cb93063dc4/Base_ckpt.pt; \\\n",
        "  aria2c -q -x 16 http://files.ipd.uw.edu/pub/RFdiffusion/e29311f6f1bf1af907f9ef9f44b8328b/Complex_base_ckpt.pt; \\\n",
        "  aria2c -q -x 16 http://files.ipd.uw.edu/pub/RFdiffusion/f572d396fae9206628714fb2ce00f72e/Complex_beta_ckpt.pt; \\\n",
        "  aria2c -q -x 16 http://files.ipd.uw.edu/pub/RFdiffusion/5532d2e1f3a4738decd58b19d633b3c3/ActiveSite_ckpt.pt; \\\n",
        "  aria2c -q -x 16 http://files.ipd.uw.edu/pub/RFdiffusion/60f09a193fb5e5ccdc4980417708dbab/Complex_Fold_base_ckpt.pt; \\\n",
        "  aria2c -q -x 16 https://storage.googleapis.com/alphafold/alphafold_params_2022-12-06.tar; \\\n",
        "  tar -xf alphafold_params_2022-12-06.tar -C params; \\\n",
        "  touch params/done.txt) &\")\n",
        "\n",
        "if not os.path.isdir(\"RFdiffusion\"):\n",
        "  print(\"installing RFdiffusion...\")\n",
        "  os.system(\"git clone https://github.com/sokrypton/RFdiffusion.git\")\n",
        "  os.system(\"pip -q install jedi omegaconf hydra-core icecream pyrsistent\")\n",
        "  os.system(\"pip install dgl -f https://data.dgl.ai/wheels/cu121/repo.html\")\n",
        "  os.system(\"cd RFdiffusion/env/SE3Transformer; pip -q install --no-cache-dir -r requirements.txt; pip -q install .\")\n",
        "  os.system(\"wget -qnc https://files.ipd.uw.edu/krypton/ananas\")\n",
        "  os.system(\"chmod +x ananas\")\n",
        "\n",
        "if not os.path.isdir(\"colabdesign\"):\n",
        "  print(\"installing ColabDesign...\")\n",
        "  os.system(\"pip -q install git+https://github.com/sokrypton/ColabDesign.git\")\n",
        "  os.system(\"ln -s /usr/local/lib/python3.*/dist-packages/colabdesign colabdesign\")\n",
        "\n",
        "if not os.path.isdir(\"RFdiffusion/models\"):\n",
        "  print(\"downloading RFdiffusion params...\")\n",
        "  os.system(\"mkdir RFdiffusion/models\")\n",
        "  models = [\"Base_ckpt.pt\",\"Complex_base_ckpt.pt\",\"Complex_beta_ckpt.pt\",'ActiveSite_ckpt.pt','Complex_Fold_base_ckpt.pt']\n",
        "  for m in models:\n",
        "    while os.path.isfile(f\"{m}.aria2\"):\n",
        "      time.sleep(5)\n",
        "  os.system(f\"mv {' '.join(models)} RFdiffusion/models\")\n",
        "  os.system(\"unzip schedules.zip; rm schedules.zip\")\n",
        "\n",
        "if 'RFdiffusion' not in sys.path:\n",
        "  os.environ[\"DGLBACKEND\"] = \"pytorch\"\n",
        "  sys.path.append('RFdiffusion')\n",
        "\n",
        "if not os.path.isdir('pyrosetta'):\n",
        "    os.system(\"gdown 1Pts0USd16GAtqz5v_4ErTu_7YBpysF9G; \\\n",
        "               pip install pyrosetta-2023.45+release.a6d9ba8-cp310-cp310-linux_x86_64.whl\")\n",
        "\n",
        "os.system(\"pip install py3Dmol\")\n",
        "os.system(\"pip install Bio\" )"
      ]
    },
    {
      "cell_type": "markdown",
      "metadata": {
        "id": "WKEOlbYWmCoF"
      },
      "source": [
        "## 1. Постановка задачи"
      ]
    },
    {
      "cell_type": "markdown",
      "metadata": {
        "id": "b7Mb1q6klZcG"
      },
      "source": [
        "Будем генерировать протеазу. В качестве стартовой структуры возьмем каспазу-1 в комплексе с пептидом (https://www.rcsb.org/structure/1ICE). Подробнее про каспазы здесь (https://www.ebi.ac.uk/thornton-srv/m-csa/entry/718/)"
      ]
    },
    {
      "cell_type": "markdown",
      "metadata": {
        "id": "BqqfhkUtl441"
      },
      "source": [
        "Загрузим файл со структурой и визуализируем ее."
      ]
    },
    {
      "cell_type": "code",
      "execution_count": null,
      "metadata": {
        "id": "UlaHunAsPgow"
      },
      "outputs": [],
      "source": [
        "! wget https://files.rcsb.org/download/1ICE.pdb"
      ]
    },
    {
      "cell_type": "code",
      "execution_count": null,
      "metadata": {
        "id": "M-_-05gEpNeC"
      },
      "outputs": [],
      "source": [
        "from Bio import PDB\n",
        "from Bio.PDB.PDBParser import PDBParser\n",
        "import py3Dmol\n",
        "import numpy as np"
      ]
    },
    {
      "cell_type": "code",
      "execution_count": null,
      "metadata": {
        "id": "v2A74MXUvYFI"
      },
      "outputs": [],
      "source": [
        "parser=PDBParser(QUIET=True)\n",
        "structure=parser.get_structure(\"1ICE\",'1ICE.pdb')\n",
        "for model in structure:\n",
        "    for chain in model:\n",
        "        print(chain.get_id(), len(chain))\n",
        "        ln=[]\n",
        "        li=[]\n",
        "        for residue in chain:\n",
        "            if residue.get_resname()!='HOH':\n",
        "                li.append('{0:3}'.format(residue.id[1]))\n",
        "                ln.append(residue.get_resname())\n",
        "        print(' '.join(li))\n",
        "        print(' '.join(ln))"
      ]
    },
    {
      "cell_type": "code",
      "execution_count": null,
      "metadata": {
        "id": "BY3BqhHRuzwY"
      },
      "outputs": [],
      "source": [
        "p = py3Dmol.view(js='https://3dmol.org/build/3Dmol.js')\n",
        "\n",
        "p.addModel(open('/content/1ICE.pdb','r').read(),'pdb')\n",
        "p.setStyle({'chain':'A'},{'cartoon':{'color':'green'}})\n",
        "p.setStyle({'chain':'B'},{'cartoon':{'color':'blue'}})\n",
        "\n",
        "p.setStyle({'resi':[237, 285]},{'stick':{'colorscheme':'greenCarbon'},\n",
        "                                'cartoon':{'color':'green'}})\n",
        "\n",
        "p.setStyle({'chain':'T'},{'stick':{'colorscheme':'grayCarbon'}})\n",
        "\n",
        "p.zoomTo() # центрировать структуру\n",
        "p.show()"
      ]
    },
    {
      "cell_type": "code",
      "execution_count": null,
      "metadata": {
        "id": "REldRkA8iFM2"
      },
      "outputs": [],
      "source": [
        "site=[237,238,239,284,285,286]"
      ]
    },
    {
      "cell_type": "markdown",
      "metadata": {
        "id": "_7GtwM5CqRb6"
      },
      "source": [
        "## 2. Motif scaffolding с помощью RFDiffusion"
      ]
    },
    {
      "cell_type": "markdown",
      "metadata": {
        "id": "8jRvSMgYrNl6"
      },
      "source": [
        "Используем RFdiffusion (https://github.com/RosettaCommons/RFdiffusion) для галлюцинации структуры белка вокруг мотива."
      ]
    },
    {
      "cell_type": "code",
      "source": [
        "%%time\n",
        "! RFdiffusion/run_inference.py \\\n",
        "inference.input_pdb=1ICE.pdb \\\n",
        "'contigmap.contigs=[100-100/A284-286/50-50/A236-238/15-15/0 T286-288]' \\\n",
        "inference.output_prefix=result/rf_diff inference.num_designs=1 \\\n",
        "inference.ckpt_override_path=RFdiffusion/models/ActiveSite_ckpt.pt"
      ],
      "metadata": {
        "id": "vV7Zj33hGZkP"
      },
      "execution_count": null,
      "outputs": []
    },
    {
      "cell_type": "code",
      "source": [
        "p = py3Dmol.view(js='https://3dmol.org/build/3Dmol.js')\n",
        "\n",
        "p.addModel(open('/content/result/rf_diff_0.pdb','r').read(),'pdb')\n",
        "\n",
        "p.setStyle({'chain':'A'},{'cartoon':{'color':'green'}})\n",
        "p.setStyle({'resi':[102,155]},{'stick':{'colorscheme':'greenCarbon'},\n",
        "                               'cartoon':{'color':'green'}})\n",
        "\n",
        "\n",
        "p.setStyle({'chain':'B'},{'stick':{'colorscheme':'blueCarbon'}})\n",
        "\n",
        "p.zoomTo() # центрировать структуру\n",
        "p.show()"
      ],
      "metadata": {
        "id": "2GdNvRMsQZw6"
      },
      "execution_count": null,
      "outputs": []
    },
    {
      "cell_type": "markdown",
      "source": [
        "## 3. Fold conditioning"
      ],
      "metadata": {
        "id": "Ap0kQ-6KKsMn"
      }
    },
    {
      "cell_type": "markdown",
      "source": [
        "Предположим, что мы хотим сгаллюцинировать белок, обладающий конкретным фолдом. Например, сгенерировать антитело, обладающее определенными функциями. Для этого в RFDiffusion есть т.н. fold conditioning, когда на вход программе помимо контигов подается желаемый фолд."
      ],
      "metadata": {
        "id": "jTexFPgFKu53"
      }
    },
    {
      "cell_type": "markdown",
      "source": [
        "Попробуем задизайнить таким образом каталитическое антитело. Скачаем структуру антитела и вырежем из нее нужную цепь."
      ],
      "metadata": {
        "id": "hA07Lg8kMRHN"
      }
    },
    {
      "cell_type": "code",
      "source": [
        "!wget https://files.rcsb.org/download/7DET.pdb\n",
        "!cat 7DET.pdb  | grep ' B ' > 7DET_B.pdb"
      ],
      "metadata": {
        "id": "GgDyJilY6miY"
      },
      "execution_count": null,
      "outputs": []
    },
    {
      "cell_type": "code",
      "source": [
        "p = py3Dmol.view(js='https://3dmol.org/build/3Dmol.js')\n",
        "\n",
        "p.addModel(open('/content/7DET_B.pdb','r').read(),'pdb')\n",
        "p.setStyle({'chain':'B'},{'cartoon':{'color':'blue'}})\n",
        "\n",
        "p.zoomTo() # центрировать структуру\n",
        "p.show()"
      ],
      "metadata": {
        "id": "faTWrqhoA4hO"
      },
      "execution_count": null,
      "outputs": []
    },
    {
      "cell_type": "markdown",
      "source": [
        "Сгенерируем файл со вторичной структурой"
      ],
      "metadata": {
        "id": "X27vASfRMiZJ"
      }
    },
    {
      "cell_type": "code",
      "source": [
        "! RFdiffusion/helper_scripts/make_secstruc_adj.py --input_pdb ./7DET_B.pdb --out_dir antibody_secstruc/"
      ],
      "metadata": {
        "id": "-uwUEcEL8CEd"
      },
      "execution_count": null,
      "outputs": []
    },
    {
      "cell_type": "code",
      "source": [
        "# часть остатков могла не распознаться, так что выведем финальную длину антитела\n",
        "import torch\n",
        "a=torch.load('/content/antibody_secstruc/7DET_B_ss.pt')\n",
        "a.shape"
      ],
      "metadata": {
        "id": "tG9qQr64EEr6"
      },
      "execution_count": null,
      "outputs": []
    },
    {
      "cell_type": "markdown",
      "metadata": {
        "id": "IJ4wqOlVrJF-"
      },
      "source": [
        "Запустим RFDiffusion. Разметим контиги так, чтобы они попадали на вариабельные участки структуры антитела."
      ]
    },
    {
      "cell_type": "code",
      "execution_count": null,
      "metadata": {
        "id": "mUvVC1heF5kE"
      },
      "outputs": [],
      "source": [
        "%%time\n",
        "! RFdiffusion/run_inference.py \\\n",
        "inference.input_pdb=1ICE.pdb \\\n",
        "'contigmap.contigs=[156-156/A284-286/56-56/A236-238/13-13/0]' \\\n",
        "'contigmap.length=231-231' \\\n",
        "inference.output_prefix=result/rf_diff_fold inference.num_designs=1 \\\n",
        "scaffoldguided.scaffoldguided=True scaffoldguided.target_pdb=False \\\n",
        "scaffoldguided.scaffold_dir=antibody_secstruc/ \\\n",
        "scaffoldguided.mask_loops=True\n"
      ]
    },
    {
      "cell_type": "code",
      "execution_count": null,
      "metadata": {
        "id": "KmxALcc9-T4S"
      },
      "outputs": [],
      "source": [
        "p = py3Dmol.view(js='https://3dmol.org/build/3Dmol.js')\n",
        "\n",
        "p.addModel(open('/content/result/rf_diff_fold_0.pdb','r').read(),'pdb')\n",
        "p.setStyle({'chain':'A'},{'cartoon':{'color':'green'}})\n",
        "p.setStyle({'resi':[158, 217]},{'cartoon':{'color':'yellow'}})\n",
        "p.zoomTo()\n",
        "p.show()"
      ]
    },
    {
      "cell_type": "markdown",
      "metadata": {
        "id": "WDRn-OB6rrS2"
      },
      "source": [
        "Вставим лиганд"
      ]
    },
    {
      "cell_type": "code",
      "execution_count": null,
      "metadata": {
        "id": "irMIlwv6kWtT"
      },
      "outputs": [],
      "source": [
        "from Bio.PDB.Superimposer import Superimposer\n",
        "from Bio.PDB.PDBIO import PDBIO"
      ]
    },
    {
      "cell_type": "markdown",
      "metadata": {
        "id": "-YcByVAQsQ0Z"
      },
      "source": [
        "Читаем из оригинальной структуры атомы мотива и лиганда."
      ]
    },
    {
      "cell_type": "code",
      "execution_count": null,
      "metadata": {
        "id": "d8ww9tdqkZmt"
      },
      "outputs": [],
      "source": [
        "parser=PDBParser()\n",
        "structure=parser.get_structure(\"1ICE\",'1ICE.pdb')\n",
        "\n",
        "orig_atoms=[]\n",
        "for residue in structure[0]['A']:\n",
        "    if residue.get_id()[1] in site:\n",
        "        for atom in residue:\n",
        "            if atom.get_name() in ['CA','C','N','O']:\n",
        "                orig_atoms.append(atom)\n",
        "\n",
        "ligand=structure[0]['T']"
      ]
    },
    {
      "cell_type": "markdown",
      "metadata": {
        "id": "-mJW69-PsWOB"
      },
      "source": [
        "Читаем соответствующие атомы мотива из дизайнерской структуры"
      ]
    },
    {
      "cell_type": "code",
      "execution_count": null,
      "metadata": {
        "id": "Zc7XraDcqyVl"
      },
      "outputs": [],
      "source": [
        "redis=parser.get_structure(\"redis\",'result/rf_diff_fold_0.pdb')\n",
        "redis_atoms=[]\n",
        "for model in redis:\n",
        "    for chain in model:\n",
        "        for residue in chain:\n",
        "            if residue.get_id()[1] in [157,158,159,216,217,218]:\n",
        "                for atom in residue:\n",
        "                    redis_atoms.append(atom)"
      ]
    },
    {
      "cell_type": "markdown",
      "metadata": {
        "id": "Kk7wqDI8seAJ"
      },
      "source": [
        "Делаем наложение, т.е. определяем ротации и трансляции, необходимые для оптимального совмещения атомов, и применяем их к атому лиганда."
      ]
    },
    {
      "cell_type": "code",
      "execution_count": null,
      "metadata": {
        "id": "yTDgm6iLko3S"
      },
      "outputs": [],
      "source": [
        "sup=Superimposer()\n",
        "sup.set_atoms(redis_atoms, orig_atoms)\n",
        "sup.apply(ligand)"
      ]
    },
    {
      "cell_type": "markdown",
      "metadata": {
        "id": "CwdBfNSssury"
      },
      "source": [
        "Добавляем повернутый нужным образом лиганд в дизайнерскую структуру и сохраняем."
      ]
    },
    {
      "cell_type": "code",
      "execution_count": null,
      "metadata": {
        "id": "CSJQcCEXp_H8"
      },
      "outputs": [],
      "source": [
        "redis[0].add(ligand)\n",
        "\n",
        "io = PDBIO()\n",
        "io.set_structure(redis)\n",
        "io.save(\"result/rf_diff_0_fold_add_lig.pdb\")"
      ]
    },
    {
      "cell_type": "code",
      "execution_count": null,
      "metadata": {
        "id": "6bttxjmms4SI"
      },
      "outputs": [],
      "source": [
        "p = py3Dmol.view(js='https://3dmol.org/build/3Dmol.js')\n",
        "\n",
        "p.addModel(open('/content/result/rf_diff_0_fold_add_lig.pdb','r').read(),'pdb')\n",
        "p.setStyle({'chain':'A'},{'cartoon':{'color':'green'}})\n",
        "p.setStyle({'resi':[158, 217]},{'cartoon':{'color':'yellow'}})\n",
        "p.setStyle({'chain':'T'},{'stick':{'colorscheme':'grayCarbon'}})\n",
        "\n",
        "p.zoomTo()\n",
        "p.show()"
      ]
    },
    {
      "cell_type": "markdown",
      "metadata": {
        "id": "7rGBiEDoi240"
      },
      "source": [
        "## 4. AfDesign"
      ]
    },
    {
      "cell_type": "markdown",
      "source": [
        "Попробуем для тех же целей использовать фреймворк alphafold design (https://github.com/sokrypton/ColabDesign/tree/main/af)"
      ],
      "metadata": {
        "id": "49FCJuKsyxKZ"
      }
    },
    {
      "cell_type": "code",
      "source": [
        "from colabdesign import mk_afdesign_model, clear_mem"
      ],
      "metadata": {
        "id": "6dzpqQ6-bLCX"
      },
      "execution_count": null,
      "outputs": []
    },
    {
      "cell_type": "code",
      "source": [
        "af_model = mk_afdesign_model(protocol=\"partial\")\n",
        "\n",
        "af_model.prep_inputs(pdb_filename=\"1ICE.pdb\", chain=\"A\",\n",
        "                     pos=\"237-239,284-286\", length=166)"
      ],
      "metadata": {
        "id": "FDhaJENlOXqJ"
      },
      "execution_count": null,
      "outputs": []
    },
    {
      "cell_type": "code",
      "source": [
        "site=af_model._opt['pos'] # модель перенумеровывает остатки, запомним новую нумерацию\n",
        "site"
      ],
      "metadata": {
        "id": "Zzpy1DsnpBnO"
      },
      "execution_count": null,
      "outputs": []
    },
    {
      "cell_type": "code",
      "source": [
        "af_model.design_3stage(25,10,10)"
      ],
      "metadata": {
        "id": "Lys9iARlOZBW"
      },
      "execution_count": null,
      "outputs": []
    },
    {
      "cell_type": "code",
      "source": [
        "af_model.plot_traj()"
      ],
      "metadata": {
        "id": "9ogsG2mVq76E"
      },
      "execution_count": null,
      "outputs": []
    },
    {
      "cell_type": "code",
      "source": [
        "af_model.save_pdb('af_design.pdb')"
      ],
      "metadata": {
        "id": "9KWbA32Fq-0x"
      },
      "execution_count": null,
      "outputs": []
    },
    {
      "cell_type": "code",
      "source": [
        "list(site)"
      ],
      "metadata": {
        "id": "3_6JNTAFgGyE"
      },
      "execution_count": null,
      "outputs": []
    },
    {
      "cell_type": "code",
      "source": [
        "p = py3Dmol.view(js='https://3dmol.org/build/3Dmol.js')\n",
        "\n",
        "p.addModel(open('/content/af_design.pdb','r').read(),'pdb')\n",
        "p.setStyle({'chain':'A'},{'cartoon':{'color':'green'}})\n",
        "\n",
        "p.setStyle({'resi': [107, 154]},{'stick':{'colorscheme':'greenCarbon'},\n",
        "                                'cartoon':{'color':'green'}})\n",
        "\n",
        "p.zoomTo() # центрировать структуру\n",
        "p.show()"
      ],
      "metadata": {
        "id": "b629JJUpJuLo"
      },
      "execution_count": null,
      "outputs": []
    },
    {
      "cell_type": "markdown",
      "source": [
        "Также можно добавлять дополнительные лоссы для более точного контроля дизайна"
      ],
      "metadata": {
        "id": "cZFQFQpOPJPS"
      }
    },
    {
      "cell_type": "code",
      "execution_count": null,
      "metadata": {
        "id": "Y0JjzFPHkHhf"
      },
      "outputs": [],
      "source": [
        "from colabdesign.af.alphafold.common import residue_constants\n",
        "import jax\n",
        "import jax.numpy as jnp\n",
        "\n",
        "def rg_loss(inputs, outputs):\n",
        "  positions = outputs[\"structure_module\"][\"final_atom_positions\"]\n",
        "  ca = positions[:,residue_constants.atom_order[\"CA\"]]\n",
        "  center = ca.mean(0)\n",
        "  rg = jnp.sqrt(jnp.square(ca - center).sum(-1).mean() + 1e-8)\n",
        "  rg_th = 2.38 * ca.shape[0] ** 0.365\n",
        "  rg = jax.nn.elu(rg - rg_th)\n",
        "  return {\"rg\":rg}"
      ]
    },
    {
      "cell_type": "code",
      "source": [
        "af_model = mk_afdesign_model(protocol=\"partial\", loss_callback=rg_loss) # add our custom loss\n",
        "af_model.opt[\"weights\"][\"rg\"] = 0.1\n",
        "\n",
        "af_model.prep_inputs(pdb_filename=\"1ICE.pdb\", chain=\"A\",\n",
        "                     pos=\"236-238,284-286\", length=150)\n",
        "\n",
        "af_model.design_3stage(25,10,10)\n",
        "af_model.save_pdb('af_design_custom.pdb')"
      ],
      "metadata": {
        "id": "6uHnP2hFOhQ7"
      },
      "execution_count": null,
      "outputs": []
    },
    {
      "cell_type": "markdown",
      "metadata": {
        "id": "akZlr38CV2g4"
      },
      "source": [
        "## 5. Домашняя работа"
      ]
    },
    {
      "cell_type": "markdown",
      "source": [
        "1.   Придумать, как сделать fold conditioning в RFDiffusion одновременно со скэффолдингом мотива и лиганда.\n",
        "2. Восстановить последовательность структур, полученных RFDiffusion с помощью AFDesign.\n",
        "3.   Придумать, как сделать fold conditioning в AFDesign\n",
        "\n"
      ],
      "metadata": {
        "id": "bMTh1MVLU1IU"
      }
    }
  ],
  "metadata": {
    "colab": {
      "provenance": [],
      "gpuType": "T4"
    },
    "kernelspec": {
      "display_name": "Python 3",
      "name": "python3"
    },
    "language_info": {
      "name": "python"
    },
    "accelerator": "GPU"
  },
  "nbformat": 4,
  "nbformat_minor": 0
}